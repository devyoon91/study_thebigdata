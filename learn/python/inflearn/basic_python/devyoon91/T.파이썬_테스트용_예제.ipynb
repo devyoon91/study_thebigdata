{
 "metadata": {
  "language_info": {
   "codemirror_mode": {
    "name": "ipython",
    "version": 3
   },
   "file_extension": ".py",
   "mimetype": "text/x-python",
   "name": "python",
   "nbconvert_exporter": "python",
   "pygments_lexer": "ipython3",
   "version": "3.8.3-final"
  },
  "orig_nbformat": 2,
  "kernelspec": {
   "name": "python3",
   "display_name": "Python 3"
  }
 },
 "nbformat": 4,
 "nbformat_minor": 2,
 "cells": [
  {
   "cell_type": "code",
   "execution_count": null,
   "metadata": {},
   "outputs": [],
   "source": []
  },
  {
   "cell_type": "code",
   "execution_count": 45,
   "metadata": {},
   "outputs": [
    {
     "output_type": "stream",
     "name": "stdout",
     "text": [
      "th-onpyth onTNApple      \nth-onpyth onTNApple      \n30\n29\n"
     ]
    }
   ],
   "source": [
    "test = \"Appleth-onpyth onTNApple      \"\n",
    "print(test.strip(\"Apple\"))\n",
    "print(test.strip('Apple'))\n",
    "print(len(test))\n",
    "print(len(test.strip('A')))\n",
    "# print(test[2])\n",
    "# print(len(test))\n",
    "# print(test.find('th'))\n",
    "# print(test.find('th on'))\n",
    "# print(test.count('n'))\n",
    "# print(test.replace('python','java'))\n",
    "# print(test[0:6])\n",
    "# print(test[-1])"
   ]
  },
  {
   "cell_type": "code",
   "execution_count": 144,
   "metadata": {},
   "outputs": [
    {
     "output_type": "stream",
     "name": "stdout",
     "text": [
      "['서울시', '대전광역시', '성남시', '군포시', '인천광역시']\n['서울시', '대전광역시', '성남시', '군포시', '인천광역시', '대구광역시']\n"
     ]
    }
   ],
   "source": [
    "location = ['서울시','대전광역시','성남시','군포시','인천광역시']\n",
    "print(location)\n",
    "location.append('대구광역시')\n",
    "print(location)"
   ]
  },
  {
   "source": [
    "##파이썬 함수\n",
    "\n",
    "- python \n",
    "    ```\n",
    "        test\n",
    "    ```"
   ],
   "cell_type": "code",
   "metadata": {},
   "execution_count": 155,
   "outputs": [
    {
     "output_type": "error",
     "ename": "IndentationError",
     "evalue": "unexpected indent (<ipython-input-155-300e9fd2e1d6>, line 4)",
     "traceback": [
      "\u001b[1;36m  File \u001b[1;32m\"<ipython-input-155-300e9fd2e1d6>\"\u001b[1;36m, line \u001b[1;32m4\u001b[0m\n\u001b[1;33m    ```\u001b[0m\n\u001b[1;37m    ^\u001b[0m\n\u001b[1;31mIndentationError\u001b[0m\u001b[1;31m:\u001b[0m unexpected indent\n"
     ]
    }
   ]
  },
  {
   "cell_type": "code",
   "execution_count": 177,
   "metadata": {},
   "outputs": [
    {
     "output_type": "stream",
     "name": "stdout",
     "text": [
      "[1, 2, 3, 4, 5, 6]\nNone\n['hi', 'hello', '!!']\n"
     ]
    }
   ],
   "source": [
    "test = list([1,4,3,6,5,2])\n",
    "test.sort()\n",
    "print(test)\n",
    "\n",
    "test2 = test.reverse() # none\n",
    "print(test2)\n",
    "\n",
    "string = \"hi hello !!\"\n",
    "test2 = string.split() # return 'hi','hello','!!'\n",
    "print(test2)\n"
   ]
  },
  {
   "cell_type": "code",
   "execution_count": 190,
   "metadata": {},
   "outputs": [
    {
     "output_type": "stream",
     "name": "stdout",
     "text": [
      "미성년자 입니다\n"
     ]
    }
   ],
   "source": [
    "age = input(\"나이는? \")\n",
    "age_digit = int(age)\n",
    "if age_digit > 19:\n",
    "    print(\"성인 입니다.\")\n",
    "    print(\"당신은 술을 마실수 있습니다 ㅎ\")\n",
    "if age_digit <= 19:\n",
    "    print(\"미성년자 입니다\")"
   ]
  }
 ]
}