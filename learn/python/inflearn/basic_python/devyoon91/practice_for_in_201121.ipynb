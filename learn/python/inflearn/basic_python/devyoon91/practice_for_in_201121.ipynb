{
 "metadata": {
  "language_info": {
   "codemirror_mode": {
    "name": "ipython",
    "version": 3
   },
   "file_extension": ".py",
   "mimetype": "text/x-python",
   "name": "python",
   "nbconvert_exporter": "python",
   "pygments_lexer": "ipython3",
   "version": "3.8.3-final"
  },
  "orig_nbformat": 2,
  "kernelspec": {
   "name": "python3",
   "display_name": "Python 3"
  }
 },
 "nbformat": 4,
 "nbformat_minor": 2,
 "cells": [
  {
   "cell_type": "code",
   "execution_count": 1,
   "metadata": {},
   "outputs": [
    {
     "output_type": "stream",
     "name": "stdout",
     "text": [
      "0\n------------------\n1 + 2 + 3 + 4 + 5 + 6 + 7 + 8 + 9 + 10 = 55\n"
     ]
    }
   ],
   "source": [
    "sum = 0\n",
    "result = list()\n",
    "print(sum)\n",
    "print(\"------------------\")\n",
    "\n",
    "for index in range(1,11):\n",
    "    result.append(index)\n",
    "    sum = sum + index\n",
    "\n",
    "resultStr = str(result)\n",
    "resultStr2 = resultStr.strip(\"[\").strip(\"]\").replace(\",\",\" +\")\n",
    "\n",
    "print(resultStr2,\"=\",sum)\n",
    "# print(result,\"=\",sum)"
   ]
  },
  {
   "cell_type": "code",
   "execution_count": 5,
   "metadata": {
    "tags": []
   },
   "outputs": [
    {
     "output_type": "stream",
     "name": "stdout",
     "text": [
      "1\n2\n3\n4\n4\n"
     ]
    }
   ],
   "source": [
    "i=0\n",
    "while i <= 3:\n",
    "    i = i + 1\n",
    "    print(i)\n",
    "\n",
    "print (i)"
   ]
  }
 ]
}